{
 "metadata": {
  "name": "",
  "signature": "sha256:7655378baf47f8e4d06a32c4ffd70d95510c1ff02868cc2a46072a386f2835ab"
 },
 "nbformat": 3,
 "nbformat_minor": 0,
 "worksheets": [
  {
   "cells": [
    {
     "cell_type": "markdown",
     "metadata": {
      "slideshow": {
       "slide_type": "fragment"
      }
     },
     "source": [
      "The **first dimension** of a data analysis problem is the **population dimension**. The statistical algorithms corresponding to  the analysis of that dimension are called **clustering algorithms**. When fed a data frame containing the values of selected variables for a given population sample, these algorithm spit out **clusters** of individuals that are **similar** from the point of view of these variable values.\n",
      "\n",
      "The general idea behind most of the clustering algorithm is to consider the collection variable values for a given individual (i.e. a given row in the data frame) as the components of a vectors $x=(x_1,\\dots,x_m)\\in \\mathbb{R}^m$. \n",
      "So, an individual becomes a point in a geometric space, and two individuals are close to each other if the distance between the corresponding points is small. \n",
      "\n",
      "There is some flexibility to define this distance, and different problems may use different notions of distances. The first idea that comes to mind is to use the eucliden distance; for instance, if we have another vector of observations $y=(y_1,\\dots,y_m)$ for a second individual, the distance between these two individual, on the ground of the data and the chosen distance, woud be the length of the difference between the two observation vectors:\n",
      "\n",
      "$$d(x,y) = \\sqrt{(y_1-x_1)^2 + \\cdots + (y_m - x_m)^2}.$$\n",
      "\n",
      "This seems natural, but, it may seem as natural to take the sum of the absolute values of these differences, or a weighted  average of these. Moreover, if the variables are binary the euclidean distance above may not be the more suitable. Anyhow, choosing a suitable distance is part of the clustering analyis. One the distance is set, the goal is to recognized the groups of individuals that are the closest to each other. What exactly that means and how to proceed is what makes the difference between the various clustering algorithm. \n",
      "\n",
      "In the the [R clustering library](http://cran.r-project.org/web/views/Cluster.html), `cluster` provides many clustering algorithms, among which: \n",
      "\n",
      "* [hierachical clustering](http://en.wikipedia.org/wiki/Hierarchical_clustering): `hclust`\n",
      "\n",
      "* [k-means](http://en.wikipedia.org/wiki/K-means_clustering): `kmeans`, `agnes`\n",
      "\n",
      "* [partition around medoids](http://en.wikipedia.org/wiki/K-medoids): `pam`\n",
      "\n",
      "At its core, R has two clustering algorithms: kmeans and hclust"
     ]
    },
    {
     "cell_type": "code",
     "collapsed": false,
     "input": [
      "%load_ext rmagic"
     ],
     "language": "python",
     "metadata": {
      "slideshow": {
       "slide_type": "fragment"
      }
     },
     "outputs": [
      {
       "output_type": "stream",
       "stream": "stdout",
       "text": [
        "The rmagic extension is already loaded. To reload it, use:\n",
        "  %reload_ext rmagic\n"
       ]
      }
     ],
     "prompt_number": 297
    },
    {
     "cell_type": "heading",
     "level": 1,
     "metadata": {},
     "source": [
      "Clustering with one variable"
     ]
    },
    {
     "cell_type": "markdown",
     "metadata": {},
     "source": [
      "Consider a population $\\Omega$, say of students in a given class to make it very simple, on which we have collected information on  only one variable. We may analise the value of this variables to see if it splits the class in different groups. Although somewhat degenerate, this is a clustering problem. \n",
      "\n",
      "At this point, we need to distinguish in two cases depending on the nature of the variables: Do we have \n",
      "\n",
      "* a **qualitative**, whose values (also called *levels*) indicates membership to a **category** \n",
      "* a **quantitative**, whose values are numbers, and, hence, are **ordered**\n",
      "\n"
     ]
    },
    {
     "cell_type": "heading",
     "level": 2,
     "metadata": {},
     "source": [
      "Qualitative variable"
     ]
    },
    {
     "cell_type": "markdown",
     "metadata": {},
     "source": [
      "Clustering the population using a qualitative variable $X$ is trivial, since **each level** $k$ **defines a cluster** $C_k$: Namely, all the individuals such that $X=k$. In other, words the categories of the qualitative variables are the clusters. \n",
      "\n",
      "Let's do a simple simulation, to see how to desribe the clusters given by a qualitative variable in R. We consider again our class $\\Omega$ of student for which which we will simulate the variable indicating a student major. "
     ]
    },
    {
     "cell_type": "code",
     "collapsed": false,
     "input": [
      "%%R \n",
      "\n",
      "major.names  = c('ECON', 'STAT', 'MATH', 'LITT')\n",
      "major.prob   = sample(1:10,length(major.names), replace=T)/10\n",
      "student.number = 50\n",
      "\n",
      "M = factor(sample(major.names, student.number, replace=T))\n",
      "names(M) = paste(rep('S', student.number), 1:student.number, sep='')\n",
      "\n",
      "head(M)"
     ],
     "language": "python",
     "metadata": {},
     "outputs": [
      {
       "metadata": {},
       "output_type": "display_data",
       "text": [
        "  S1   S2   S3   S4   S5   S6 \n",
        "ECON ECON MATH ECON STAT STAT \n",
        "Levels: ECON MATH STAT\n"
       ]
      }
     ],
     "prompt_number": 298
    },
    {
     "cell_type": "code",
     "collapsed": false,
     "input": [
      "%%R\n",
      "\n",
      "summary(M)"
     ],
     "language": "python",
     "metadata": {},
     "outputs": [
      {
       "metadata": {},
       "output_type": "display_data",
       "text": [
        "ECON LITT MATH STAT \n",
        "  15   15   11    9 \n"
       ]
      }
     ],
     "prompt_number": 299
    },
    {
     "cell_type": "code",
     "collapsed": false,
     "input": [
      "%%R -r 86 -w 500 -h 300\n",
      "plot(M)"
     ],
     "language": "python",
     "metadata": {},
     "outputs": [
      {
       "metadata": {},
       "output_type": "display_data",
       "png": "[encoded data removed]"
      }
     ],
     "prompt_number": 300
    },
    {
     "cell_type": "code",
     "collapsed": false,
     "input": [
      "%%R\n",
      "\n",
      "clusters = lapply(levels(M), function(major) names(M[M==major]))\n",
      "names(clusters) = levels(M)\n",
      "    \n",
      "clusters"
     ],
     "language": "python",
     "metadata": {},
     "outputs": [
      {
       "metadata": {},
       "output_type": "display_data",
       "text": [
        "$ECON\n",
        " [1] \"S1\"  \"S2\"  \"S4\"  \"S7\"  \"S8\"  \"S9\"  \"S13\" \"S15\" \"S19\" \"S23\" \"S24\" \"S31\"\n",
        "[13] \"S40\" \"S41\" \"S46\"\n",
        "\n",
        "$LITT\n",
        " [1] \"S10\" \"S14\" \"S17\" \"S20\" \"S21\" \"S28\" \"S29\" \"S30\" \"S32\" \"S35\" \"S36\" \"S38\"\n",
        "[13] \"S39\" \"S48\" \"S50\"\n",
        "\n",
        "$MATH\n",
        " [1] \"S3\"  \"S11\" \"S18\" \"S25\" \"S26\" \"S33\" \"S37\" \"S42\" \"S44\" \"S47\" \"S49\"\n",
        "\n",
        "$STAT\n",
        "[1] \"S5\"  \"S6\"  \"S12\" \"S16\" \"S22\" \"S27\" \"S34\" \"S43\" \"S45\"\n",
        "\n"
       ]
      }
     ],
     "prompt_number": 301
    },
    {
     "cell_type": "heading",
     "level": 2,
     "metadata": {},
     "source": [
      "Quantitative case\n"
     ]
    },
    {
     "cell_type": "markdown",
     "metadata": {},
     "source": [
      "Let's start by simulating grades at a given exam for our class $\\Omega$. We want the grades to be between a minimum and a maximum score. So let's write a function that makes sure of that:"
     ]
    },
    {
     "cell_type": "code",
     "collapsed": false,
     "input": [
      "%%R\n",
      "\n",
      "simulate.grades = function(n, score.max=100, score.mean=score.max/2, score.sd=score.max/5){\n",
      "        grades = round(rnorm(n, mean=score.mean, sd=score.sd))\n",
      "        grades[grades < 0] = 0\n",
      "        grades[grades > score.max] = score.max\n",
      "        return(grades)\n",
      "    }\n"
     ],
     "language": "python",
     "metadata": {
      "slideshow": {
       "slide_type": "fragment"
      }
     },
     "outputs": [],
     "prompt_number": 302
    },
    {
     "cell_type": "heading",
     "level": 2,
     "metadata": {},
     "source": [
      "Dotplots"
     ]
    },
    {
     "cell_type": "code",
     "collapsed": false,
     "input": [
      "%%R -r 86 -w 800 -h 400\n",
      "\n",
      "score.max = 100\n",
      "gradeBook = data.frame(Major=M, Score=rep(0, student.number))\n",
      "for(cluster in clusters){\n",
      "    mu = sample(100, 1); sigma = 10\n",
      "    gradeBook[cluster, 'Score'] = simulate.grades(length(cluster), score.mean=mu, score.sd=sigma)\n",
      "}\n",
      "plot(gradeBook$Score, rep(1.1, nrow(gradeBook)), type='n',\n",
      "    xlab='Scores', ylab='Majors', yaxt='n', \n",
      "    main='Dotplot of the grades')\n",
      "colors = c('red', 'blue', 'purple', 'orange')\n",
      "text(x=gradeBook$Score, y=1.1, labels=gradeBook$Major, srt=90, \n",
      "     col=colors[gradeBook$Major])\n"
     ],
     "language": "python",
     "metadata": {},
     "outputs": [
      {
       "metadata": {},
       "output_type": "display_data",
       "png": "[encoded data removed]"
      }
     ],
     "prompt_number": 137
    },
    {
     "cell_type": "code",
     "collapsed": false,
     "input": [
      "%%R  -r 86 -w 800 -h 400\n",
      "\n",
      "scores = gradeBook$Score\n",
      "names(scores) = rownames(gradeBook)\n",
      "stripchart(scores)"
     ],
     "language": "python",
     "metadata": {},
     "outputs": [
      {
       "metadata": {},
       "output_type": "display_data",
       "png": "[encoded data removed]"
      }
     ],
     "prompt_number": 267
    },
    {
     "cell_type": "heading",
     "level": 2,
     "metadata": {},
     "source": [
      "kmean clustering"
     ]
    },
    {
     "cell_type": "code",
     "collapsed": false,
     "input": [
      "%%R -r 96 -w 1000 -h 400\n",
      "\n",
      "fit = kmeans(scores, 4)\n",
      "\n",
      "plot(scores, rep(1.1, length(scores)), type='n', yaxt='n', xlab='', ylab='')\n",
      "colors = c('red', 'blue', 'purple', 'orange')[fit$cluster]\n",
      "text(scores, 1.1, labels=gradeBook$Major, srt=90, col=colors)\n"
     ],
     "language": "python",
     "metadata": {},
     "outputs": [
      {
       "metadata": {},
       "output_type": "display_data",
       "png": "[encoded data removed]"
      }
     ],
     "prompt_number": 268
    },
    {
     "cell_type": "heading",
     "level": 2,
     "metadata": {},
     "source": [
      "Hierarchical clustering"
     ]
    },
    {
     "cell_type": "code",
     "collapsed": false,
     "input": [
      "%%R -r 86 -w 800 -h 400\n",
      "\n",
      "\n",
      "D = dist(scores, method='euclidean')\n",
      "hfit = hclust(D)\n",
      "plot(hfit, gradeBook$Major)\n"
     ],
     "language": "python",
     "metadata": {},
     "outputs": [
      {
       "metadata": {},
       "output_type": "display_data",
       "png": "[encoded data removed]"
      }
     ],
     "prompt_number": 284
    },
    {
     "cell_type": "code",
     "collapsed": false,
     "input": [
      "%%R\n",
      "\n",
      "hgroups = cutree(hfit, 4)\n",
      "gradeBook$hcluster = cutree(hfit, 4)\n",
      "head(gradeBook)"
     ],
     "language": "python",
     "metadata": {},
     "outputs": [
      {
       "metadata": {},
       "output_type": "display_data",
       "text": [
        "   Major Score cluster hcluster\n",
        "S1  LITT    81       4        1\n",
        "S2  ECON    50       2        2\n",
        "S3  MATH    74       4        1\n",
        "S4  STAT    25       1        3\n",
        "S5  STAT     0       3        4\n",
        "S6  STAT    13       3        4\n"
       ]
      }
     ],
     "prompt_number": 295
    },
    {
     "cell_type": "code",
     "collapsed": false,
     "input": [
      "%%R\n",
      "\n",
      "library(ape)\n",
      "plot(as.phylo(hfit), gradeBook$Major, type=\"unrooted\")\n"
     ],
     "language": "python",
     "metadata": {},
     "outputs": [
      {
       "metadata": {},
       "output_type": "display_data",
       "png": "[encoded data removed]"
      }
     ],
     "prompt_number": 291
    },
    {
     "cell_type": "heading",
     "level": 1,
     "metadata": {},
     "source": [
      "Clustering with two variables"
     ]
    },
    {
     "cell_type": "markdown",
     "metadata": {
      "slideshow": {
       "slide_type": "fragment"
      }
     },
     "source": [
      "Consider a **population** for which one has only **two variables**.\n",
      "\n",
      "As example, we will simulate grade data for a student population, for which one has the midterm grade and the final grade. \n",
      "\n",
      "The maximal score should be 100."
     ]
    },
    {
     "cell_type": "code",
     "collapsed": false,
     "input": [
      "%%R -r 86 -w 600 -h 300\n",
      "n = 100\n",
      "\n",
      "midterm = simulate.grades(n, score.mean=70, score.sd=15, score.max=100)\n",
      "final   = simulate.grades(n, score.mean=60, score.sd=15, score.max=100)"
     ],
     "language": "python",
     "metadata": {
      "slideshow": {
       "slide_type": "fragment"
      }
     },
     "outputs": [],
     "prompt_number": 296
    },
    {
     "cell_type": "heading",
     "level": 2,
     "metadata": {
      "slideshow": {
       "slide_type": "slide"
      }
     },
     "source": [
      "Scatter plots"
     ]
    },
    {
     "cell_type": "markdown",
     "metadata": {
      "slideshow": {
       "slide_type": "fragment"
      }
     },
     "source": [
      "> **Definition:** \n",
      ">\n",
      "> A **scatter plot**\n",
      "of **two numeric vectors** $x = (x_1, \\dots, x_n) $ and $y = (y_1, \\dots, y_n)$ with the same number $n$ of elements is a graph with **two axes** representing the two **variable ranges** and displaying $n$ **points** with coordinates $(x_1, y_1),\\dots ,\\, (x_n, y_n)$. "
     ]
    },
    {
     "cell_type": "markdown",
     "metadata": {
      "slideshow": {
       "slide_type": "fragment"
      }
     },
     "source": [
      "Suppose we have \n",
      "\n",
      "*  a **population** $\\Omega$ we wish to study\n",
      "\n",
      "\n",
      "* **two continous variables** $X,Y:\\Omega\\longrightarrow \\mathbb{R}$ of interest for our study\n",
      "\n",
      "\n",
      "* a **population sample** $S=\\{s_1, \\dots, s_m\\}\\subset \\Omega$ "
     ]
    },
    {
     "cell_type": "markdown",
     "metadata": {
      "slideshow": {
       "slide_type": "fragment"
      }
     },
     "source": [
      "The **values of our variables on the population sample** gives us two vectors:\n",
      "\n",
      "\n",
      "$$X = (x_1, \\dots, x_m),\\quad\\textrm{where}\\quad x_i=X(s_i)$$\n",
      "\n",
      "\n",
      "$$Y = (y_1,\\dots, y_m ),\\quad\\textrm{where}\\quad y_i=Y(s_i)$$\n",
      "\n",
      "\n",
      "In a **scatter plot** each **sample individual $s_i\\in S$** is represented as a **point in $\\mathbb{R^2}$ with coordinates** $(x_i, y_i)$."
     ]
    },
    {
     "cell_type": "markdown",
     "metadata": {
      "slideshow": {
       "slide_type": "fragment"
      }
     },
     "source": [
      "Looking at the **geometry** of the **cloud of points** plotted **in the scatter plot** in the $xy$-plane:\n",
      "\n",
      "$$(x_1, y_1),\\, (x_2, y_2),\\dots,\\, (x_m, y_m)\\in \\mathbb{R^2}$$\n",
      "\n",
      " will give us **indications on**\n",
      "\n",
      "\n",
      "* the **variable relations**\n",
      "\n",
      "* the **population clusters**\n",
      "\n",
      "**Important remark:** Of course, we will only obtain **indications** this way. This is particularly true if we don't have values for the whole populations but only for a sample of the population. **It may be the case that the clusters and relations we see for a given sample disappear after add more individual to our sample!!!**"
     ]
    },
    {
     "cell_type": "markdown",
     "metadata": {
      "slideshow": {
       "slide_type": "slide"
      }
     },
     "source": [
      "In R, the function that allows us to display **scatter plots** of two numeric vectors is the [plot function](http://www.r-tutor.com/elementary-statistics/quantitative-data/scatter-plot):\n",
      "\n",
      "    plot(X, Y, xlim, ylim, main, xlab, ylab)\n",
      "that takes\n",
      "\n",
      "* two numeric vectors <code>X</code> and <code>Y</code>\n",
      "* two numeric vectors <code>xlim</code> and <code>ylim</code> containing the **axis upper-and-lower bounds**\n",
      "* **legend strings** <code>main</code> for the title, <code>xlab, ylab</code>  for the x-and-y axis legends\n",
      "\n",
      "**Remark: The appearance or not of clusters in the scatter plot may depends on the scale chosen for the x-and-y axis!**"
     ]
    },
    {
     "cell_type": "markdown",
     "metadata": {
      "slideshow": {
       "slide_type": "slide"
      }
     },
     "source": [
      "Let us display a scatter plot of our two grade variables:"
     ]
    },
    {
     "cell_type": "code",
     "collapsed": false,
     "input": [
      "%%R -r 96 -w 400 -h 400\n",
      "\n",
      "plot(midterm, final, xlim=c(0, 100), ylim=c(0, 100))"
     ],
     "language": "python",
     "metadata": {
      "slideshow": {
       "slide_type": "fragment"
      }
     },
     "outputs": [
      {
       "metadata": {},
       "output_type": "display_data",
       "png": "[encoded data removed]"
      }
     ],
     "prompt_number": 6
    },
    {
     "cell_type": "markdown",
     "metadata": {
      "slideshow": {
       "slide_type": "fragment"
      }
     },
     "source": [
      "From this scatter plots, we see a **single cluster of points** centered on \n",
      "\n",
      "    (mean(midterm), mean(final))\n",
      "but **no particular relationship between the two exam scores** (i.e. a student may have performed well at the midterm and badly at the final in a completely independent way). \n",
      "\n",
      "This type of **cloud** is characteristic of **normally distributed independent variables**. So not much to report."
     ]
    },
    {
     "cell_type": "heading",
     "level": 2,
     "metadata": {
      "slideshow": {
       "slide_type": "slide"
      }
     },
     "source": [
      "Simulating variable relationships"
     ]
    },
    {
     "cell_type": "markdown",
     "metadata": {
      "slideshow": {
       "slide_type": "fragment"
      }
     },
     "source": [
      "A better model for grade simulation can be achieved by considering as before that \n",
      "\n",
      "* **the two exam scores are normally distributed around two different means**\n",
      "\n",
      "but now we will add the following **assumptions to our model**:\n",
      "\n",
      "* **students work harder for the final exam**\n",
      "* **final grades are generally lower than midterm grades** \n",
      "* **relative student performances should be somewhat the same** for both exams\n",
      "\n",
      "Mathematically, we can choose a  **linear model** to represent the assumption aboves:\n",
      "\n",
      "$$F= \\alpha M - \\beta +\\epsilon$$\n",
      "\n",
      "where \n",
      "\n",
      "* $\\alpha$ is a **positive proportionality factor** representing the relative amount of work put into the final in comparison with the midterm\n",
      "* $\\beta$ is a **positive** number modelling the fact that the **final is harder than the midterm**\n",
      "* $\\epsilon$ is a **normally distributed error term** accounting for the fact that **particular students may not follows perfectly our model**\n"
     ]
    },
    {
     "cell_type": "markdown",
     "metadata": {
      "slideshow": {
       "slide_type": "slide"
      }
     },
     "source": [
      "Let us simulate grades according to this model. We will do that in three steps:\n",
      "\n",
      "* simulate the midterm grades as before\n",
      "* use our model $F = \\alpha\\times M - \\beta$ to simulate the final grades\n",
      "* add an normally distributed error term $\\epsilon$ to the final grades\n",
      "\n",
      "Good practice wants us to package our linear simulation in a function:"
     ]
    },
    {
     "cell_type": "code",
     "collapsed": false,
     "input": [
      "%%R\n",
      "\n",
      "clean.grades = function(g, score.min, score.max){\n",
      "        g[g < score.min] = score.min\n",
      "        g[g > score.max] = score.max\n",
      "        return(g)\n",
      "    }\n",
      "\n",
      "simulate.final = function(midterm, alpha, beta, error, score.max){\n",
      "    \n",
      "        epsilon = error * rnorm(length(midterm))\n",
      "        final_sim = clean.grades(alpha*midterm - beta + epsilon, 0, score.max)\n",
      "        return(final_sim)\n",
      "    }"
     ],
     "language": "python",
     "metadata": {
      "slideshow": {
       "slide_type": "fragment"
      }
     },
     "outputs": [],
     "prompt_number": 7
    },
    {
     "cell_type": "markdown",
     "metadata": {
      "slideshow": {
       "slide_type": "slide"
      }
     },
     "source": [
      "Without adding the **error term** $\\epsilon$, a **scatter plot** makes the **variable relation cristal clear**. \n",
      "\n",
      "Increasing the error term tends to mask the functional realtionship between our two variables, but it is still visible:"
     ]
    },
    {
     "cell_type": "code",
     "collapsed": false,
     "input": [
      "%%R -r 96 -h 400 -w 400\n",
      "\n",
      "n = 100; alpha = 1.2; beta = 20; error = 5; score.max = 100\n",
      "\n",
      "final = simulate.final(midterm, alpha, beta, error, score.max)\n",
      "                                   \n",
      "plot(midterm, final, xlim=c(0, 100), ylim=c(0, 100))\n"
     ],
     "language": "python",
     "metadata": {
      "slideshow": {
       "slide_type": "fragment"
      }
     },
     "outputs": [
      {
       "metadata": {},
       "output_type": "display_data",
       "png": "[encoded data removed]"
      }
     ],
     "prompt_number": 9
    },
    {
     "cell_type": "heading",
     "level": 3,
     "metadata": {
      "slideshow": {
       "slide_type": "slide"
      }
     },
     "source": [
      "Simulating population clusters"
     ]
    },
    {
     "cell_type": "markdown",
     "metadata": {
      "slideshow": {
       "slide_type": "fragment"
      }
     },
     "source": [
      "Now suppose, we want to add to our grade model the fact that student from different majors may perform differently in the class exams. \n",
      "\n",
      "Suppose we have two majors:\n",
      "\n",
      "* LITT for litterature majors\n",
      "* DOUB for double majors in CS and statistics\n",
      "\n",
      "For a \"Computing with Data\" class, one may expect the DOUB major to perform the better and the LITT major. \n",
      "\n",
      "Let's try to built this feature into our simulated grade data."
     ]
    },
    {
     "cell_type": "markdown",
     "metadata": {
      "slideshow": {
       "slide_type": "fragment"
      }
     },
     "source": [
      "First, we simulate midterm grades with different means and standard deviations for the two groups:"
     ]
    },
    {
     "cell_type": "code",
     "collapsed": false,
     "input": [
      "%%R\n",
      "max_score = 100\n",
      "\n",
      "L_number = 30; L_mean = 40; L_sd = 5\n",
      "D_number = 80; D_mean = 80; D_sd = 5\n",
      "\n",
      "L_midterm = simulate.grades(L_number, L_mean, L_sd, max_score)\n",
      "D_midterm = simulate.grades(D_number, D_mean, D_sd, max_score)"
     ],
     "language": "python",
     "metadata": {
      "slideshow": {
       "slide_type": "fragment"
      }
     },
     "outputs": [],
     "prompt_number": 10
    },
    {
     "cell_type": "markdown",
     "metadata": {
      "slideshow": {
       "slide_type": "fragment"
      }
     },
     "source": [
      "Second, we use our linear model with different parameters for the two groups:"
     ]
    },
    {
     "cell_type": "code",
     "collapsed": false,
     "input": [
      "%%R\n",
      "L_alpha = 0.5; L_beta = 10; L_error = 15\n",
      "D_alpha = 1.2; D_beta = 10; D_error = 5\n",
      "\n",
      "L_final   = simulate.final(L_midterm, L_alpha, L_beta, L_error, max_score)\n",
      "D_final   = simulate.final(D_midterm, D_alpha, D_beta, D_error, max_score)"
     ],
     "language": "python",
     "metadata": {
      "slideshow": {
       "slide_type": "fragment"
      }
     },
     "outputs": [],
     "prompt_number": 11
    },
    {
     "cell_type": "markdown",
     "metadata": {
      "slideshow": {
       "slide_type": "fragment"
      }
     },
     "source": [
      "The **historgram plots** for the exam scores for each section already reveal a certain **clustering** in the data:"
     ]
    },
    {
     "cell_type": "code",
     "collapsed": false,
     "input": [
      "%%R -r 96 -w 600 -h 600\n",
      "par(mfrow=c(2,2))\n",
      "hist(L_midterm, xlim=c(0,100)); hist(L_final, xlim=c(0,100))\n",
      "hist(D_midterm,   xlim=c(0,100)); hist(D_final, xlim=c(0,100))"
     ],
     "language": "python",
     "metadata": {
      "slideshow": {
       "slide_type": "fragment"
      }
     },
     "outputs": [
      {
       "metadata": {},
       "output_type": "display_data",
       "png": "[encoded data removed]"
      }
     ],
     "prompt_number": 13
    },
    {
     "cell_type": "markdown",
     "metadata": {
      "slideshow": {
       "slide_type": "fragment"
      }
     },
     "source": [
      "Third, we create a **data frame for each major** with a **column for the section names**, and we **concatenate the two data frames** into a single one using the **row bind** function:"
     ]
    },
    {
     "cell_type": "code",
     "collapsed": false,
     "input": [
      "%%R\n",
      "\n",
      "L_grades  = data.frame(Final=L_final, Midterm=L_midterm, Section=rep('LITT', L_number))\n",
      "D_grades  = data.frame(Final=D_final, Midterm=D_midterm, Section=rep('DOUB', D_number))\n",
      "grades    = rbind(L_grades, D_grades)\n",
      "\n",
      "print(head(grades))"
     ],
     "language": "python",
     "metadata": {
      "slideshow": {
       "slide_type": "fragment"
      }
     },
     "outputs": [
      {
       "metadata": {},
       "output_type": "display_data",
       "text": [
        "      Final  Midterm Section\n",
        "1 32.672804 38.29467    LITT\n",
        "2 33.207395 47.51212    LITT\n",
        "3  7.756826 42.64154    LITT\n",
        "4  0.000000 42.71096    LITT\n",
        "5  4.741126 39.31663    LITT\n",
        "6  0.000000 34.31633    LITT\n"
       ]
      }
     ],
     "prompt_number": 14
    },
    {
     "cell_type": "markdown",
     "metadata": {
      "slideshow": {
       "slide_type": "fragment"
      }
     },
     "source": [
      "Invoked with an integer $n$, the function \n",
      "\n",
      "    sample(n)\n",
      "return a vector with the first $n$ integers **randomly permuted entries**. \n",
      "\n",
      "Let us use this trick to shuffle the LITT and DOUB sections in our data frame grade.\n",
      "\n",
      "**Remark:** The function <code>nrow(df)</code> and <code>ncol(df)</code> return respectively the number of rows and the number of columns of the data frame <code>df</code>."
     ]
    },
    {
     "cell_type": "code",
     "collapsed": false,
     "input": [
      "%%R\n",
      "\n",
      "m = nrow(grades)\n",
      "\n",
      "grades = data.frame(grades[sample(m), ], Student=paste('Name', 1:m, sep=''), row.names=4)\n",
      "\n",
      "grades$Section = factor(grades$Section)\n",
      "\n",
      "print(tail(grades))"
     ],
     "language": "python",
     "metadata": {
      "slideshow": {
       "slide_type": "fragment"
      }
     },
     "outputs": [
      {
       "metadata": {},
       "output_type": "display_data",
       "text": [
        "            Final  Midterm Section\n",
        "Name105  4.060020 38.76348    LITT\n",
        "Name106 90.974477 80.71544    DOUB\n",
        "Name107 89.165214 75.13049    DOUB\n",
        "Name108 69.216225 67.78844    DOUB\n",
        "Name109  4.741126 39.31663    LITT\n",
        "Name110  0.000000 42.71096    LITT\n"
       ]
      }
     ],
     "prompt_number": 15
    },
    {
     "cell_type": "markdown",
     "metadata": {
      "slideshow": {
       "slide_type": "fragment"
      }
     },
     "source": [
      "We can now display the **scatter plot** of our two variables. \n",
      "\n",
      "To verify that the clusters correspond to the majors, we'd like to plot our points in two different colors depending on the section. "
     ]
    },
    {
     "cell_type": "markdown",
     "metadata": {
      "slideshow": {
       "slide_type": "fragment"
      }
     },
     "source": [
      "The function **plot** takes a **character vector**\n",
      "\n",
      "    col=color_vector\n",
      "\n",
      "containing the **colors with which each point is to be plotted.** \n",
      "\n",
      "To construct this **color vector**, we can first contruct a vector with the "
     ]
    },
    {
     "cell_type": "code",
     "collapsed": false,
     "input": [
      "%%R\n",
      "\n",
      "my_colors = c('blue', 'purple')"
     ],
     "language": "python",
     "metadata": {
      "slideshow": {
       "slide_type": "fragment"
      }
     },
     "outputs": [],
     "prompt_number": 16
    },
    {
     "cell_type": "markdown",
     "metadata": {
      "slideshow": {
       "slide_type": "fragment"
      }
     },
     "source": [
      "Since the data frame column corresponding to the section is a **factor** with two possible integer values:\n",
      "\n",
      "* 1 for 'LITT'\n",
      "* 2 for 'DOUB'\n",
      "\n",
      "we can construct our **color vector** using the **bracket operator** on the vector containing our two colors:"
     ]
    },
    {
     "cell_type": "code",
     "collapsed": false,
     "input": [
      "%%R\n",
      "\n",
      "point_colors = my_colors[grades$Section]\n",
      "\n",
      "print(point_colors)"
     ],
     "language": "python",
     "metadata": {
      "slideshow": {
       "slide_type": "fragment"
      }
     },
     "outputs": [
      {
       "metadata": {},
       "output_type": "display_data",
       "text": [
        "  [1] \"purple\" \"purple\" \"purple\" \"purple\" \"purple\" \"purple\" \"purple\" \"blue\"  \n",
        "  [9] \"purple\" \"purple\" \"purple\" \"blue\"   \"blue\"   \"purple\" \"purple\" \"purple\"\n",
        " [17] \"blue\"   \"purple\" \"purple\" \"blue\"   \"purple\" \"purple\" \"purple\" \"purple\"\n",
        " [25] \"purple\" \"purple\" \"purple\" \"purple\" \"purple\" \"blue\"   \"purple\" \"purple\"\n",
        " [33] \"purple\" \"purple\" \"purple\" \"purple\" \"purple\" \"purple\" \"blue\"   \"blue\"  \n",
        " [41] \"purple\" \"purple\" \"blue\"   \"purple\" \"purple\" \"purple\" \"blue\"   \"purple\"\n",
        " [49] \"purple\" \"purple\" \"purple\" \"purple\" \"purple\" \"purple\" \"purple\" \"blue\"  \n",
        " [57] \"purple\" \"purple\" \"purple\" \"blue\"   \"purple\" \"purple\" \"purple\" \"purple\"\n",
        " [65] \"blue\"   \"purple\" \"blue\"   \"blue\"   \"blue\"   \"purple\" \"purple\" \"purple\"\n",
        " [73] \"purple\" \"blue\"   \"purple\" \"purple\" \"purple\" \"purple\" \"purple\" \"blue\"  \n",
        " [81] \"blue\"   \"purple\" \"blue\"   \"purple\" \"purple\" \"purple\" \"blue\"   \"blue\"  \n",
        " [89] \"blue\"   \"purple\" \"blue\"   \"purple\" \"purple\" \"purple\" \"purple\" \"purple\"\n",
        " [97] \"blue\"   \"purple\" \"purple\" \"purple\" \"purple\" \"blue\"   \"blue\"   \"purple\"\n",
        "[105] \"blue\"   \"purple\" \"purple\" \"purple\" \"blue\"   \"blue\"  \n"
       ]
      }
     ],
     "prompt_number": 17
    },
    {
     "cell_type": "markdown",
     "metadata": {
      "slideshow": {
       "slide_type": "fragment"
      }
     },
     "source": [
      "Let us pass this **color vector** as the <code>col</code> argument to plot and **add a legend** using the function:\n",
      "\n",
      "    legend(location, legend=levels(grades$Section), col=my_colors, pch=1)\n",
      "where\n",
      "\n",
      "* the <code>location</code> argument can be <code>'topleft', 'toprigth', 'bottomleft', 'bottomrigth'</code>\n",
      "\n",
      "* the <code>legend</code> corresponds to the **category names** \n",
      "\n",
      "* the <code>col</code> is a character vector containing the **category colors**\n",
      "\n",
      "* the <code>pch=1</code> is a necessary argument that you should not worry about now"
     ]
    },
    {
     "cell_type": "code",
     "collapsed": false,
     "input": [
      "%%R -r 96\n",
      "\n",
      "plot(grades$Midterm, grades$Final, xlim=c(0, 100), ylim=c(0, 100), #\n",
      "     col=point_colors, xlab='Midterm Score', ylab='Final Score')\n",
      "\n",
      "legend('topleft', legend=levels(grades$Section), col=my_colors, pch=1)"
     ],
     "language": "python",
     "metadata": {
      "slideshow": {
       "slide_type": "fragment"
      }
     },
     "outputs": [
      {
       "metadata": {},
       "output_type": "display_data",
       "png": "[encoded data removed]"
      }
     ],
     "prompt_number": 18
    },
    {
     "cell_type": "markdown",
     "metadata": {
      "slideshow": {
       "slide_type": "fragment"
      }
     },
     "source": [
      "**Conclusion:** \n",
      "\n",
      "The **scatter plot** shows us what we put into the data. Namely:\n",
      "\n",
      "* **two student clusters** corresponding to two sections \"LITT\" and \"DOUB\"\n",
      "* a seemingly **linear relationship** between the final grade and the midterm grade\n",
      "\n",
      "The **linear variable relation** is more pronounced on the \"DOUB\" clusters. This is due to the fact that we cranked up the **error** term for the \"LITT\" student (L_ERROR = 15 while D_ERROR = 5).\n",
      "\n",
      "**EXERCISE:** Try to see how the **population clusters** and the **variable relation** survive modification of the various parameters we entered into the model. This will give you sense of the care with with you should draw conclusion with real data. "
     ]
    },
    {
     "cell_type": "heading",
     "level": 1,
     "metadata": {
      "slideshow": {
       "slide_type": "slide"
      }
     },
     "source": [
      "Clustering with many variables"
     ]
    },
    {
     "cell_type": "markdown",
     "metadata": {
      "slideshow": {
       "slide_type": "fragment"
      }
     },
     "source": [
      "With **two variables**, it's possible to visualize **population clusters** and **variable relations** on a **single scatter plot**, since it involves to plot points on the **variable plane**. \n",
      "\n",
      "With **three variables** we can still use a scatter plot, although we now need to plot our points in a **3 dimensional space**, which renders the interpretation slightly more challenging. \n",
      "\n",
      "With **more than three variables** the only way to visualize the **scatter plot** (which involves plotting in a $n$-dimensional space, where $n$ is the number of variables) is to **plot 2-dimensional projections of the $n$-dimensional scatter plot**. This means that we can plot all the **scatter plots for each pair of variables**. The visual situation is however more challenging to interpret, and we will need to use other tools for that, as we will see."
     ]
    },
    {
     "cell_type": "markdown",
     "metadata": {
      "slideshow": {
       "slide_type": "fragment"
      }
     },
     "source": [
      "To get started, let's add a variable to our simulated grade data and plot the 3D scatter plot.\n",
      "\n",
      "The variable we will add is an homework grade. To keep simulation simple, we will generate a homework grade for the whole class, without making any distinction between the two sections."
     ]
    },
    {
     "cell_type": "code",
     "collapsed": false,
     "input": [
      "%%R\n",
      "\n",
      "homework = simulate.grades(L_number + D_number, score.mean=80, score.sd=10, max_score)\n",
      "grades$Homework = homework\n",
      "grades = grades[,c('Final', 'Midterm', 'Homework', 'Section')]\n",
      "\n",
      "print(tail(grades))"
     ],
     "language": "python",
     "metadata": {
      "slideshow": {
       "slide_type": "fragment"
      }
     },
     "outputs": [
      {
       "metadata": {},
       "output_type": "display_data",
       "text": [
        "            Final  Midterm Homework Section\n",
        "Name105  4.060020 38.76348 80.64627    LITT\n",
        "Name106 90.974477 80.71544 84.63659    DOUB\n",
        "Name107 89.165214 75.13049 80.74778    DOUB\n",
        "Name108 69.216225 67.78844 75.13164    DOUB\n",
        "Name109  4.741126 39.31663 87.48911    LITT\n",
        "Name110  0.000000 42.71096 84.64235    LITT\n"
       ]
      }
     ],
     "prompt_number": 19
    },
    {
     "cell_type": "heading",
     "level": 2,
     "metadata": {
      "slideshow": {
       "slide_type": "slide"
      }
     },
     "source": [
      "The <code>lattice</code> library and the <code>cloud</code> function"
     ]
    },
    {
     "cell_type": "markdown",
     "metadata": {
      "slideshow": {
       "slide_type": "fragment"
      }
     },
     "source": [
      "The **lattice library** offers advance plotting capabilities in R. To load it, type in\n",
      "\n",
      "    library(lattice)\n",
      "\n",
      "The display **3D scatter plots** of 3 continous variables, say $X$, $Y$, and $Z$, stored in a data frame <code>myFrame</code>, we will use the lattice function\n",
      "\n",
      "    cloud(Z ~ X + Y, data=myFrame, group=cat, auto.key=T)\n",
      "\n",
      "* The **first argument** is an **R formula**. For now, you only need to understand that\n",
      "   \n",
      "        Z ~ X + Y\n",
      "    \n",
      "means that $Z$ will be plotted on the $z$-axis, while $X$ and $Y$ will be plotted on the $xy$-plane.\n",
      "\n",
      "\n",
      "* The **second argument** <code>data</code> is the data frame from which the **quantitative variables** $X$, $Y$, and $Z$ will be retrieved from.\n",
      "\n",
      "\n",
      "* The **third argument** <code>group</code> is a **categorical variable** from the data frame <code>myFrame</code> indicating that the points from different categories should be displayed with different colors.\n",
      "\n",
      "\n",
      "* The **last argument** <code>auto.key</code> is a Boolean argument indicating a legend describing which color corresponds to which category should be plotted. \n",
      "\n",
      "    "
     ]
    },
    {
     "cell_type": "markdown",
     "metadata": {
      "slideshow": {
       "slide_type": "slide"
      }
     },
     "source": [
      "Let us display a 3D scatter plot of our variables <code>Final, Midterm</code> and <code>Homework</code> and plot them with different colors depending on the <code>Section</code> variable.\n",
      "\n",
      "**Remark:** In the notebook, one needs to store the output of <code>cloud</code> into a variable, which we will need to print in order for the plot to appears. "
     ]
    },
    {
     "cell_type": "code",
     "collapsed": false,
     "input": [
      "%%R -r 96 -w 700 -h 500\n",
      "\n",
      "library(lattice)\n",
      "\n",
      "grade_cloud = cloud(Final ~ Midterm + Homework, data=grades, group=Section, auto.key=T)\n",
      "\n",
      "print(grade_cloud)"
     ],
     "language": "python",
     "metadata": {
      "slideshow": {
       "slide_type": "slide"
      }
     },
     "outputs": [
      {
       "output_type": "stream",
       "stream": "stdout",
       "text": [
        "Error in eval(substitute(groups), data, environment(formula)) : \n",
        "  numeric 'envir' arg not of length one\n"
       ]
      }
     ],
     "prompt_number": 303
    },
    {
     "cell_type": "markdown",
     "metadata": {
      "slideshow": {
       "slide_type": "fragment"
      }
     },
     "source": [
      "One still clearly seet the two clusters of LITT and DOUB majors. The linear relationship between the variables is however not clearly perceptible on the plot."
     ]
    },
    {
     "cell_type": "heading",
     "level": 3,
     "metadata": {
      "slideshow": {
       "slide_type": "slide"
      }
     },
     "source": [
      "The scatter plot matrix"
     ]
    },
    {
     "cell_type": "markdown",
     "metadata": {
      "slideshow": {
       "slide_type": "fragment"
      }
     },
     "source": [
      "Another way to display **variable relations** and **population clusters** for **more than 2 variables** is to plot a **scatter plot matrix** containing a scatter plot of **each pair** of variables.\n",
      "\n",
      "One can again pass our **color vector** to the <code>col</code> argument."
     ]
    },
    {
     "cell_type": "code",
     "collapsed": false,
     "input": [
      "%%R -r 96 -w 500 -h 500\n",
      "\n",
      "plot(grades[,c(1,2,3)], col=point_colors)"
     ],
     "language": "python",
     "metadata": {
      "slideshow": {
       "slide_type": "fragment"
      }
     },
     "outputs": [
      {
       "output_type": "stream",
       "stream": "stdout",
       "text": [
        "Error in grades[, c(1, 2, 3)] : incorrect number of dimensions\n"
       ]
      }
     ],
     "prompt_number": 304
    },
    {
     "cell_type": "markdown",
     "metadata": {
      "slideshow": {
       "slide_type": "fragment"
      }
     },
     "source": [
      "The two **section clusters are very visible** in each of the scatter plots.\n",
      "\n",
      "At contrast with our 3D scatter plot, **one can still see the linear relation ship between the midterm score and the final score** that we build into our data.\n",
      "\n",
      "Although still very useful for three variables, we begin to get a sense that **more sophisticated methods will be needed as the number of variable increases**... That's what we are going to learn next."
     ]
    },
    {
     "cell_type": "heading",
     "level": 2,
     "metadata": {
      "slideshow": {
       "slide_type": "slide"
      }
     },
     "source": [
      "3. Multivariate analysis: Clustering"
     ]
    },
    {
     "cell_type": "markdown",
     "metadata": {
      "slideshow": {
       "slide_type": "fragment"
      }
     },
     "source": [
      "Let us add a fourth variable to our simulated grade data:"
     ]
    },
    {
     "cell_type": "code",
     "collapsed": false,
     "input": [
      "%%R\n",
      "\n",
      "quiz = simulate.grades(L_number + D_number, score.mean=30, score.sd=5, max_score)\n",
      "grades$Quiz = quiz\n",
      "grades = grades[,c('Final', 'Midterm', 'Homework', 'Quiz', 'Section')]\n",
      "print(head(grades))"
     ],
     "language": "python",
     "metadata": {
      "slideshow": {
       "slide_type": "fragment"
      }
     },
     "outputs": [
      {
       "output_type": "stream",
       "stream": "stdout",
       "text": [
        "Error in rnorm(n, mean = score.mean, sd = score.sd) : \n",
        "  object 'L_number' not found\n"
       ]
      }
     ],
     "prompt_number": 305
    },
    {
     "cell_type": "markdown",
     "metadata": {
      "slideshow": {
       "slide_type": "fragment"
      }
     },
     "source": [
      "We can still display a **scatter plot matrix**:"
     ]
    },
    {
     "cell_type": "code",
     "collapsed": false,
     "input": [
      "%%R -r 96 -w 700 -h 700\n",
      "\n",
      "plot(grades[,c(1,2,3,4)], col=point_colors)"
     ],
     "language": "python",
     "metadata": {
      "slideshow": {
       "slide_type": "slide"
      }
     },
     "outputs": [
      {
       "output_type": "stream",
       "stream": "stdout",
       "text": [
        "Error in grades[, c(1, 2, 3, 4)] : incorrect number of dimensions\n"
       ]
      }
     ],
     "prompt_number": 306
    },
    {
     "cell_type": "markdown",
     "metadata": {
      "slideshow": {
       "slide_type": "fragment"
      }
     },
     "source": [
      "We still see some clustering appearing for some variables, but for others (Quiz and Homework) the clustering does not seem to be present. \n",
      "\n",
      "As the number of variable grows, we need to use other methods to retrieve clusters from the data."
     ]
    },
    {
     "cell_type": "heading",
     "level": 3,
     "metadata": {
      "slideshow": {
       "slide_type": "slide"
      }
     },
     "source": [
      "The distance matrix"
     ]
    },
    {
     "cell_type": "markdown",
     "metadata": {
      "slideshow": {
       "slide_type": "fragment"
      }
     },
     "source": [
      "Consider $n$ **variables** $X_1,\\dots,X_n$ for a **population sample** of $m$ **individual**.\n",
      "\n",
      "All the **variable values** for all the **sample individuals** can be arranged into a matrix\n",
      "\n",
      "$$\n",
      "\\qquad\\qquad\\qquad\\left( \\begin{array}{ccc}\n",
      "x_{11} & x_{12} & \\cdots & x_{1n} \\\\\n",
      "x_{21} & x_{22} & \\cdots & x_{2n} \\\\\n",
      "\\vdots &        &        & \\vdots \\\\\n",
      "x_{m1} & x_{2m} & \\cdots & x_{mn}\n",
      "\\end{array} \\right) \\qquad \\textrm{where}\\qquad x_{ij} = X_i(s_j)\\quad \\textrm{(value of the variable}\\quad X_i\\quad  \\textrm{ for the individual} \\quad s_j \\textrm{ )}\n",
      "$$\n",
      "\n",
      "In other word, this matrix is the **data frame stripped from its row and column labels**."
     ]
    },
    {
     "cell_type": "markdown",
     "metadata": {
      "slideshow": {
       "slide_type": "fragment"
      }
     },
     "source": [
      "The **points** $v_1,\\dots, v_m$ represented in a **scatter plots** are just the **row vectors** of this value matrix:\n",
      "\n",
      "$$ \\qquad\\qquad\\qquad\\begin{array} \n",
      ".v_1 & = & (x_{11},x_{12},\\dots,x_{1n}) \\\\\n",
      "v_2 & = & (x_{21},x_{22},\\dots,x_{2n}) \\\\\n",
      "    & \\vdots &  \\\\\n",
      "v_m & = & (x_{m1}, x_{m2}\\dots,x_{mn}) \n",
      "\\end{array}\n",
      "$$"
     ]
    },
    {
     "cell_type": "markdown",
     "metadata": {
      "slideshow": {
       "slide_type": "fragment"
      }
     },
     "source": [
      "In R, a **matrix** is a represented by a **vector** with the **hidden dimension vector** set up with the corresponding number of rows and columns, in the same way a **class** is a **list** with the **hidden class string** set up to the **class name**. \n",
      "\n",
      "This **hidden dimension vector** is accessed and set up through the function\n",
      "\n",
      "    dim(x)\n",
      "\n",
      "Changing the dimension of a vector makes R interpret the **resulting object as an instance of the class** <code>matrix</code>."
     ]
    },
    {
     "cell_type": "code",
     "collapsed": false,
     "input": [
      "%%R\n",
      "\n",
      "x = c(1,2,3,4,5,6,7,8,9)\n",
      "print(class(x))\n",
      "\n",
      "dim(x) = c(3,3)\n",
      "\n",
      "print(class(x)); cat('\\n')\n",
      "print(x)"
     ],
     "language": "python",
     "metadata": {
      "slideshow": {
       "slide_type": "fragment"
      }
     },
     "outputs": [
      {
       "metadata": {},
       "output_type": "display_data",
       "text": [
        "[1] \"numeric\"\n",
        "[1] \"matrix\"\n",
        "\n",
        "     [,1] [,2] [,3]\n",
        "[1,]    1    4    7\n",
        "[2,]    2    5    8\n",
        "[3,]    3    6    9\n"
       ]
      }
     ],
     "prompt_number": 307
    },
    {
     "cell_type": "markdown",
     "metadata": {
      "slideshow": {
       "slide_type": "fragment"
      }
     },
     "source": [
      "One can extract the **value matrix** from a data frame using the **conversion funtion**\n",
      "\n",
      "    as.matrix(x)\n"
     ]
    },
    {
     "cell_type": "code",
     "collapsed": false,
     "input": [
      "%%R\n",
      "\n",
      "scores = as.matrix(grades[,c(1,2,3,4)])\n",
      "print(class(scores))"
     ],
     "language": "python",
     "metadata": {
      "slideshow": {
       "slide_type": "fragment"
      }
     },
     "outputs": [
      {
       "output_type": "stream",
       "stream": "stdout",
       "text": [
        "Error in grades[, c(1, 2, 3, 4)] : incorrect number of dimensions\n"
       ]
      }
     ],
     "prompt_number": 308
    },
    {
     "cell_type": "markdown",
     "metadata": {
      "slideshow": {
       "slide_type": "fragment"
      }
     },
     "source": [
      "The **distance matrix** of a matrix $A=(x_{ij})$ is the matrix containing all the **distances between** the matrix **row vectors** $v_1,v_2,\\dots, v_m$:\n",
      "\n",
      "\n",
      "$$\n",
      "\\qquad\\qquad\\qquad\\operatorname{dist}(A)\\quad=\\quad\\left( \\begin{array}{ccc}\n",
      "d(v_1,v_1) & d(v_1,v_2) & \\cdots & d(v_1,v_n) \\\\\n",
      "d(v_2,v_1) & d(v_2,v_2) & \\cdots & d(v_2,v_n) \\\\\n",
      "\\vdots &        &        & \\vdots \\\\\n",
      "d(v_m,v_1) & d(v_m,v_2) & \\cdots & d(v_m,v_n)\n",
      "\\end{array} \\right) \n",
      "$$\n",
      "\n",
      "where\n",
      "\n",
      "$$\\qquad\\qquad\\qquad d(v_i,v_j) = \\sum_{k=1}^m \\sqrt{(x_{ik}^2 - x_{jk}^2)}$$ \n",
      "\n",
      "is the **euclidean distance** between the **row vectors** $v_i$ and $v_j$."
     ]
    },
    {
     "cell_type": "markdown",
     "metadata": {
      "slideshow": {
       "slide_type": "fragment"
      }
     },
     "source": [
      "In R, one computes **the distance matrix** using the function\n",
      "\n",
      "    dist(x)\n",
      "\n",
      "The **distance matrix** contains all the necessary information to perform **clustering**."
     ]
    },
    {
     "cell_type": "code",
     "collapsed": false,
     "input": [
      "%%R\n",
      "\n",
      "scores_dist = dist(scores)"
     ],
     "language": "python",
     "metadata": {
      "slideshow": {
       "slide_type": "fragment"
      }
     },
     "outputs": [],
     "prompt_number": 309
    },
    {
     "cell_type": "heading",
     "level": 3,
     "metadata": {
      "slideshow": {
       "slide_type": "slide"
      }
     },
     "source": [
      "Hierachical Clustering Analysis"
     ]
    },
    {
     "cell_type": "markdown",
     "metadata": {
      "slideshow": {
       "slide_type": "fragment"
      }
     },
     "source": [
      "The function \n",
      "\n",
      "    hclust(distance_matrix)\n",
      "    \n",
      "takes a **distance matrix** and returns an object of the class <code>hclust</code>, which contains a **hierachical groups of the population**. "
     ]
    },
    {
     "cell_type": "markdown",
     "metadata": {
      "slideshow": {
       "slide_type": "fragment"
      }
     },
     "source": [
      "This **hierachical groups** are computed as follows by <code>hclust</code>:\n",
      "\n",
      "* it starts by **groupping indiduals (i.e. rows) two by two by smallest distance**\n",
      "\n",
      "\n",
      "* then it computes a distance between this pairs of two and **group these pairs again two by two by smallest distance**\n",
      "\n",
      "\n",
      "* this algorithm continues until there is **no group is left for groupping**\n",
      "\n",
      "The **hierachy that results** can be further plotted as a **dendrogram** using the <code>plot</code> funciton."
     ]
    },
    {
     "cell_type": "code",
     "collapsed": false,
     "input": [
      "%%R -r 96 -w 700 -h 400\n",
      "\n",
      "hclusters = hclust(scores_dist)\n",
      "\n",
      "plot(hclusters, main='Dendrogram of the class scores')"
     ],
     "language": "python",
     "metadata": {
      "slideshow": {
       "slide_type": "fragment"
      }
     },
     "outputs": [
      {
       "metadata": {},
       "output_type": "display_data",
       "png": "[encoded data removed]"
      }
     ],
     "prompt_number": 310
    },
    {
     "cell_type": "markdown",
     "metadata": {
      "slideshow": {
       "slide_type": "fragment"
      }
     },
     "source": [
      "We see from the dendrogram that we can obtain a different number of cluster by **cutting the dendogram at a given height**. \n",
      "\n",
      "In our example, \n",
      "\n",
      "* **cutting** at a **distance between 60 and 120**, then **two cluster emerges** that most probably correspond to the two majors.\n",
      "\n",
      "* **cutting** at a **distance of 40**, will produce **several additional clusters** revealing more structure in the data. \n",
      "\n",
      "Of course, if the distance between the two cluster is **small** it may indicate that the **cluster structure** is not very strong. In our example, only the two main clusters seems to be real. "
     ]
    },
    {
     "cell_type": "markdown",
     "metadata": {
      "slideshow": {
       "slide_type": "fragment"
      }
     },
     "source": [
      "To **retrieve a given number of cluster**, one uses the function\n",
      "\n",
      "    cutree(hcluster_object, number_of_clusters)\n",
      "which returns a **integer vector** where each element is an **integer** telling **which cluster the corresponding individual in our population belongs to**. This **labels** of this vectors are the **individual names**."
     ]
    },
    {
     "cell_type": "code",
     "collapsed": false,
     "input": [
      "%%R\n",
      "\n",
      "clusters = cutree(hclusters, 2)\n",
      "print(clusters)"
     ],
     "language": "python",
     "metadata": {
      "slideshow": {
       "slide_type": "fragment"
      }
     },
     "outputs": [
      {
       "metadata": {},
       "output_type": "display_data",
       "text": [
        " S1  S2  S3  S4  S5  S6  S7  S8  S9 S10 S11 S12 S13 S14 S15 S16 S17 S18 S19 S20 \n",
        "  1   1   1   2   2   2   1   2   2   1   2   1   2   1   1   2   1   1   1   1 \n",
        "S21 S22 S23 S24 S25 S26 S27 S28 S29 S30 S31 S32 S33 S34 S35 S36 S37 S38 S39 S40 \n",
        "  1   1   1   2   1   1   1   1   2   2   1   2   1   1   2   1   1   1   2   1 \n",
        "S41 S42 S43 S44 S45 S46 S47 S48 S49 S50 \n",
        "  1   1   1   1   1   1   2   1   1   1 \n"
       ]
      }
     ],
     "prompt_number": 311
    },
    {
     "cell_type": "markdown",
     "metadata": {
      "slideshow": {
       "slide_type": "fragment"
      }
     },
     "source": [
      "We can now separate the rows or our initial data frame into two categories, corresponding to the returned clusters and check that they represent the two majors:"
     ]
    },
    {
     "cell_type": "code",
     "collapsed": false,
     "input": [
      "%%R\n",
      "\n",
      "cluster1.names = names(clusters[clusters == 1])\n",
      "students1 = grades[cluster1.names,]\n",
      "print(students1)"
     ],
     "language": "python",
     "metadata": {
      "slideshow": {
       "slide_type": "fragment"
      }
     },
     "outputs": [
      {
       "output_type": "stream",
       "stream": "stdout",
       "text": [
        "Error in grades[cluster1.names, ] : incorrect number of dimensions\n"
       ]
      }
     ],
     "prompt_number": 312
    }
   ],
   "metadata": {}
  }
 ]
}