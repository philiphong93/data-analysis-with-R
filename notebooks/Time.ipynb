{
 "metadata": {
  "name": ""
 },
 "nbformat": 3,
 "nbformat_minor": 0,
 "worksheets": [
  {
   "cells": [
    {
     "cell_type": "markdown",
     "metadata": {},
     "source": [
      "The last dimension of data analysis problem is the **time dimension**. Namely, values collected on a population for a collection of relevant variables have a natural time stamp: the time and date of collection. In certain cases, this time of collection is neither known, nor really relevant to the problem at hand (for instance, the variables may be taken to be constant in time). On the other hand, a great deal of problems are concerned with the evolution of the variables in time, such the price evolutions in in financial problems.\n",
      "\n",
      "As for population and variable analysis the general idea is roughly the same: grouping (and predicting) instant of times together. For instance, one would like to detect **cycles** (i.e. grouping together regularly spaced instant of times for which a variable takes the same value) or change in **trends** (i.e. instant of times in which the general movement passes from an general tendency to increase a general tendency to decrease, and conversely). \n",
      "\n",
      "In the process of finding these cycles, trends, and inflexion points, one needs to filter out random and meaningless variations in the evolution, i.e., **random noise**. What remains after filterin out the noise is often call the **signal**. "
     ]
    },
    {
     "cell_type": "code",
     "collapsed": false,
     "input": [],
     "language": "python",
     "metadata": {},
     "outputs": []
    }
   ],
   "metadata": {}
  }
 ]
}